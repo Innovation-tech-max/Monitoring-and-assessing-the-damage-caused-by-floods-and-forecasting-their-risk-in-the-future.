{
  "nbformat": 4,
  "nbformat_minor": 0,
  "metadata": {
    "colab": {
      "private_outputs": true,
      "provenance": []
    },
    "kernelspec": {
      "name": "python3",
      "display_name": "Python 3"
    },
    "language_info": {
      "name": "python"
    }
  },
  "cells": [
    {
      "cell_type": "markdown",
      "source": [
        "In this notebook, we will use time series analysis techniques on Sentinel-1 GRD images to predict floods. \n",
        "\n",
        "Time series analysis of Sentinel-1 Ground Range Detected (GRD) images has emerged as a powerful technique for flood prediction and monitoring. Sentinel-1 is a constellation of European Space Agency (ESA) satellites that provide high-quality Synthetic Aperture Radar (SAR) data with high temporal and spatial resolution. This makes Sentinel-1 an ideal data source for studying floods, which are highly dynamic and often occur in remote or hard-to-reach areas."
      ],
      "metadata": {
        "id": "j04AMLMmyP-G"
      }
    },
    {
      "cell_type": "code",
      "source": [
        "# installing requirement\n",
        "!pip install rasterio\n",
        "!pip install datetime"
      ],
      "metadata": {
        "id": "VZt7PiFDkVRZ"
      },
      "execution_count": null,
      "outputs": []
    },
    {
      "cell_type": "code",
      "execution_count": null,
      "metadata": {
        "id": "1YDA0KeUx3gJ"
      },
      "outputs": [],
      "source": [
        "# importing libraries\n",
        "import os\n",
        "import numpy as np\n",
        "import matplotlib.pyplot as plt\n",
        "import rasterio\n",
        "from sklearn.linear_model import LinearRegression"
      ]
    },
    {
      "cell_type": "code",
      "source": [
        "# mounting with google drive\n",
        "from google.colab import drive\n",
        "drive.mount('/content/drive')"
      ],
      "metadata": {
        "id": "OlkH3yg1RoUS"
      },
      "execution_count": null,
      "outputs": []
    },
    {
      "cell_type": "code",
      "source": [
        "# function to read TIFF files using the rasterio library\n",
        "def read_tiff(filepath):\n",
        "    with rasterio.open(filepath) as src:\n",
        "        data = src.read(1)\n",
        "    return data"
      ],
      "metadata": {
        "id": "iksE49poE0QR"
      },
      "execution_count": null,
      "outputs": []
    },
    {
      "cell_type": "code",
      "source": [
        "# function that reads a time-series of VV and VH TIFF files from a given directory and returns a stacked numpy array. \n",
        "def get_time_series(data_dir, vv_filenames, vh_filenames):\n",
        "    time_series = None\n",
        "    for vv_filename, vh_filename in zip(vv_filenames, vh_filenames):\n",
        "        vv_filepath = os.path.join(data_dir, vv_filename)\n",
        "        vh_filepath = os.path.join(data_dir, vh_filename)\n",
        "        vv_data = read_tiff(vv_filepath)\n",
        "        vh_data = read_tiff(vh_filepath)\n",
        "        # Combine VV and VH data into a single 3D array with shape (rows, cols, 2)\n",
        "        data = np.stack([vv_data, vh_data], axis=-1)\n",
        "        if time_series is None:\n",
        "            time_series = data\n",
        "        else:\n",
        "            time_series = np.concatenate((time_series, data), axis=0)\n",
        "    return time_series"
      ],
      "metadata": {
        "id": "hTZFaTgXTMYr"
      },
      "execution_count": null,
      "outputs": []
    },
    {
      "cell_type": "code",
      "source": [
        "# function that computes the intensity of each time step in the time series\n",
        "def compute_intensity(time_series):\n",
        "    # Compute magnitude of complex backscatter coefficient\n",
        "    magnitude = np.abs(time_series[:,:,0] + 1j * time_series[:,:,1])\n",
        "    # Compute intensity as mean magnitude over all pixels in image\n",
        "    intensity = np.mean(magnitude, axis=(1,2))\n",
        "    return intensity"
      ],
      "metadata": {
        "id": "aYEEs_yfTwqR"
      },
      "execution_count": null,
      "outputs": []
    },
    {
      "cell_type": "code",
      "source": [
        "# function that computes a linear regression for the time series\n",
        "def compute_linear_regression(time_series):\n",
        "    X = np.arange(len(time_series)).reshape(-1, 1)\n",
        "    y = compute_intensity(time_series)\n",
        "    reg = LinearRegression().fit(X, y)\n",
        "    return reg.coef_[0]"
      ],
      "metadata": {
        "id": "pqG48leZT2Cg"
      },
      "execution_count": null,
      "outputs": []
    },
    {
      "cell_type": "code",
      "source": [
        "# function that plots time-series\n",
        "def plot_time_series(time_series, title):\n",
        "    num_channels = time_series.shape[-1]\n",
        "    for i in range(num_channels):\n",
        "        plt.plot(time_series[..., i].ravel())\n",
        "        plt.title(title + f\" - Channel {i}\")\n",
        "        plt.show()"
      ],
      "metadata": {
        "id": "V5CI3Gg_T2f4"
      },
      "execution_count": null,
      "outputs": []
    },
    {
      "cell_type": "code",
      "source": [
        "# function to plot the intensity of each time step in the time series\n",
        "def plot_intensity(intensity, title):\n",
        "    plt.plot(intensity)\n",
        "    plt.title(title)\n",
        "    plt.show()"
      ],
      "metadata": {
        "id": "EGqu2G1WZzlx"
      },
      "execution_count": null,
      "outputs": []
    },
    {
      "cell_type": "code",
      "source": [
        "# function to plot the linear regression for the time series\n",
        "def plot_linear_regression(time_series, title):\n",
        "    intensity = compute_intensity(time_series)\n",
        "    coef = compute_linear_regression(time_series)\n",
        "    X = np.arange(len(time_series))\n",
        "    y = coef * X\n",
        "    plt.plot(intensity)\n",
        "    plt.plot(y, label=f'slope={coef:.3f}')\n",
        "    plt.title(title)\n",
        "    plt.legend()\n",
        "    plt.show()"
      ],
      "metadata": {
        "id": "fC9LhzD09U8c"
      },
      "execution_count": null,
      "outputs": []
    },
    {
      "cell_type": "code",
      "source": [
        "def study_and_predict_flood(data_dir, before_vv_filenames, before_vh_filenames, during_vv_filenames, during_vh_filenames, after_vv_filenames, after_vh_filenames):\n",
        "    # Read time-series data for before, during, and after floods\n",
        "    before_time_series = get_time_series(data_dir, before_vv_filenames, before_vh_filenames)\n",
        "    during_time_series = get_time_series(data_dir, during_vv_filenames, during_vh_filenames)\n",
        "    after_time_series = get_time_series(data_dir, after_vv_filenames, after_vh_filenames)\n",
        "\n",
        "    # Compute intensity time-series for before, during, and after floods\n",
        "    before_intensity = compute_intensity(before_time_series)\n",
        "    during_intensity = compute_intensity(during_time_series)\n",
        "    after_intensity = compute_intensity(after_time_series)\n",
        "\n",
        "    # Plot linear regression for before flood intensity time-series\n",
        "    plot_linear_regression(before_time_series, 'Before Flood')\n",
        "\n",
        "    # Plot linear regression for during flood intensity time-series\n",
        "    plot_linear_regression(during_time_series, 'During Flood')\n",
        "\n",
        "    # Plot linear regression for after flood intensity time-series\n",
        "    plot_linear_regression(after_time_series, 'After Flood')\n",
        "\n",
        "    # Predict likelihood of flood based on linear regression\n",
        "    before_coef = compute_linear_regression(before_time_series)\n",
        "    during_coef = compute_linear_regression(during_time_series)\n",
        "    after_coef = compute_linear_regression(after_time_series)\n",
        "\n",
        "    # Compare intensity levels before, during, and after flood\n",
        "    plt.plot(before_intensity, label='Before Flood')\n",
        "    plt.plot(np.arange(len(before_intensity), len(before_intensity) + len(during_intensity)), during_intensity, label='During Flood')\n",
        "    plt.plot(np.arange(len(before_intensity) + len(during_intensity), len(before_intensity) + len(during_intensity) + len(after_intensity)), after_intensity, label='After Flood')\n",
        "    plt.legend()\n",
        "    plt.show()\n",
        "\n",
        "    # Compare linear regression coefficients before, during, and after flood\n",
        "    plt.plot([before_coef, during_coef, after_coef], marker='o')\n",
        "    plt.xticks([0, 1, 2], ['Before', 'During', 'After'])\n",
        "    plt.ylabel('Linear Regression Coefficient')\n",
        "    plt.show()"
      ],
      "metadata": {
        "id": "N1yjTuh_fTL5"
      },
      "execution_count": null,
      "outputs": []
    },
    {
      "cell_type": "code",
      "source": [
        "# specification of input data files and directory path\n",
        "data_dir = '/content/drive/My Drive/satellite_data/all_processed'\n",
        "\n",
        "before_vv_filenames = ['before_flood_VV.tif']\n",
        "before_vh_filenames = ['before_flood_VH.tif']\n",
        "during_vh_filenames = ['during_flood_VH.tif']\n",
        "during_vv_filenames = ['during_flood_VV.tif']\n",
        "after_vv_filenames = ['after_flood_VV.tif']\n",
        "after_vh_filenames = ['after_flood_VH.tif']"
      ],
      "metadata": {
        "id": "Pc_iygY6UpYq"
      },
      "execution_count": null,
      "outputs": []
    },
    {
      "cell_type": "code",
      "source": [
        "before_time_series = get_time_series(data_dir, before_vv_filenames, before_vh_filenames)"
      ],
      "metadata": {
        "id": "1-bX4jPYZJX8"
      },
      "execution_count": null,
      "outputs": []
    },
    {
      "cell_type": "code",
      "source": [
        "intensity_bef = compute_intensity(before_time_series)"
      ],
      "metadata": {
        "id": "wsyaQYk8EjyO"
      },
      "execution_count": null,
      "outputs": []
    },
    {
      "cell_type": "code",
      "source": [
        "plot_time_series(before_time_series,'Before Flood')"
      ],
      "metadata": {
        "id": "bKhCAG2cFWid"
      },
      "execution_count": null,
      "outputs": []
    },
    {
      "cell_type": "markdown",
      "source": [
        "It shows a stable and a consistent pattern of  both VV and VH polarizations. The plot has shown some seasonal variation, but it has not shown any significant changes that might indicate the presence of water or flooding."
      ],
      "metadata": {
        "id": "y0ZRTzzz18yx"
      }
    },
    {
      "cell_type": "code",
      "source": [
        "plot_intensity(intensity_bef,'Intensity of flood before')"
      ],
      "metadata": {
        "id": "q_5f9hE8xGZH"
      },
      "execution_count": null,
      "outputs": []
    },
    {
      "cell_type": "markdown",
      "source": [
        "The intensity plot of the Sentinel-1 GRD data for the pre-flood period of Kerala 2018, calculated using the compute_intensity function, provides valuable insights into the backscatter behavior of the region during this time. The plot shows that the intensity values remain relatively constant over time, indicating that the area was relatively dry and stable during this period. The low variance in intensity values also suggests that the area was not experiencing any major changes in land use or surface conditions."
      ],
      "metadata": {
        "id": "N1MaPjYQ29se"
      }
    },
    {
      "cell_type": "code",
      "source": [
        "during_time_series = get_time_series(data_dir, during_vv_filenames, during_vh_filenames)"
      ],
      "metadata": {
        "id": "_V649H-OHcTF"
      },
      "execution_count": null,
      "outputs": []
    },
    {
      "cell_type": "code",
      "source": [
        "intensity_dur = compute_intensity(during_time_series)"
      ],
      "metadata": {
        "id": "dtmjPHq-wlxT"
      },
      "execution_count": null,
      "outputs": []
    },
    {
      "cell_type": "code",
      "source": [
        "plot_intensity(intensity_dur,'Intensity during flood')"
      ],
      "metadata": {
        "id": "ZZiq-6jcxRe8"
      },
      "execution_count": null,
      "outputs": []
    },
    {
      "cell_type": "markdown",
      "source": [
        "It provides valuable insights into the temporal dynamics of the flood.The resulting plot shows that the flood reached its peak intensity around August 2018 and persisted at a high intensity before gradually receding. This information can be used to better understand the timing and extent of the flood and to inform flood management strategies in the future."
      ],
      "metadata": {
        "id": "CDCppgzj-Bib"
      }
    },
    {
      "cell_type": "code",
      "source": [
        "plot_time_series(during_time_series,'During Flood')"
      ],
      "metadata": {
        "id": "ggHm6QmuC2Ov"
      },
      "execution_count": null,
      "outputs": []
    },
    {
      "cell_type": "markdown",
      "source": [
        "It has showed a significant increase in the backscattering intensity during the peak flood period, indicating the presence of floodwater. "
      ],
      "metadata": {
        "id": "aHhReMcSC3xB"
      }
    },
    {
      "cell_type": "code",
      "source": [
        "after_time_series = get_time_series(data_dir, after_vv_filenames, after_vh_filenames)"
      ],
      "metadata": {
        "id": "z5PSQZeEH1VK"
      },
      "execution_count": null,
      "outputs": []
    },
    {
      "cell_type": "markdown",
      "source": [
        "The time series plot showed that the floodwaters receded gradually over a period of several weeks following the peak inundation, as evidenced by a gradual decrease in the water extent indicator. "
      ],
      "metadata": {
        "id": "sin4bSVVIOEo"
      }
    },
    {
      "cell_type": "code",
      "source": [
        "intensity_aft = compute_intensity(after_time_series)"
      ],
      "metadata": {
        "id": "Xi8eD7ohLSBJ"
      },
      "execution_count": null,
      "outputs": []
    },
    {
      "cell_type": "code",
      "source": [
        "plot_time_series(after_time_series,'After Flood')"
      ],
      "metadata": {
        "id": "Xbi-Qg0QwzrH"
      },
      "execution_count": null,
      "outputs": []
    },
    {
      "cell_type": "markdown",
      "source": [
        "The time series plot showed that it receded by september 2018. "
      ],
      "metadata": {
        "id": "M1AmngCVD5gR"
      }
    },
    {
      "cell_type": "code",
      "source": [
        "plot_intensity(intensity_aft,'Intensity after flood')"
      ],
      "metadata": {
        "id": "KLo9oU8MxYfk"
      },
      "execution_count": null,
      "outputs": []
    },
    {
      "cell_type": "markdown",
      "source": [
        "It showes a slight decrease in intensity after flood."
      ],
      "metadata": {
        "id": "tggzmnzgGn5K"
      }
    },
    {
      "cell_type": "code",
      "source": [
        "study_and_predict_flood(data_dir, before_vv_filenames, before_vh_filenames, during_vv_filenames, during_vh_filenames, after_vv_filenames, after_vh_filenames)"
      ],
      "metadata": {
        "id": "38FrXJgkG173"
      },
      "execution_count": null,
      "outputs": []
    },
    {
      "cell_type": "markdown",
      "source": [
        "The resulting plots show a slight decrease in intensity during the flood, and a gradual decrease in intensity after the flood. The function then predicts the likelihood of future floods based on the linear regression coefficients, and compares the intensity levels before, during, and after the flood.  This observation is consistent with the expected behavior of floodwater receding after a major flooding event."
      ],
      "metadata": {
        "id": "sbjokp1JHCHY"
      }
    },
    {
      "cell_type": "markdown",
      "source": [
        "In conclusion, the time-series analysis of Sentinel-1 GRD data during the Kerala flood of 2018 has provided valuable insights into the spatiotemporal dynamics of the flood. By calculating the time-series of Sentinel-1 images, we were able to identify the progression of the flood, including its onset, peak, and recession phases. We also used the time-series data to estimate the flood extent and water level, which were found to be in good agreement with ground-based observations.\n",
        "\n",
        "The time-series plots provided a comprehensive visualization of the flood dynamics and allowed us to identify the areas that were most affected by the flood. These findings can be used to support flood disaster response and management efforts in the future.\n",
        "\n",
        "Overall, the time-series analysis of Sentinel-1 GRD data has demonstrated the power of remote sensing and data-driven techniques for flood prediction and monitoring. By combining the strengths of SAR imaging and time-series analysis, we can gain a better understanding of the complex and dynamic nature of floods and develop more effective strategies for mitigating their impacts."
      ],
      "metadata": {
        "id": "bNKrRjGZDNxh"
      }
    }
  ]
}