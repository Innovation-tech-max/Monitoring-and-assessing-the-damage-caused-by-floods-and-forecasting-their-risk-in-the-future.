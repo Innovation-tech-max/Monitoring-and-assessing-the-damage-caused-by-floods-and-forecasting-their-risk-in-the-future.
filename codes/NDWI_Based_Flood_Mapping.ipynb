{
  "nbformat": 4,
  "nbformat_minor": 0,
  "metadata": {
    "colab": {
      "private_outputs": true,
      "provenance": []
    },
    "kernelspec": {
      "name": "python3",
      "display_name": "Python 3"
    },
    "language_info": {
      "name": "python"
    }
  },
  "cells": [
    {
      "cell_type": "markdown",
      "source": [
        "\n",
        "\n",
        "\n",
        "In this notebook, we will look at how NDWI may be used for flood detection and monitoring. To begin, we will collect remote sensing imagery obtained before, during, and after a flood event. The images will then be preprocessed and the NDWI calculated for each one. The NDWI measurements will then be shown as a function of time to show changes in water levels before, during, and after the flood event. Lastly, the NDWI results will be analysed to determine the existence and severity of flooding."
      ],
      "metadata": {
        "id": "pZR8BvtfgIwa"
      }
    },
    {
      "cell_type": "markdown",
      "source": [
        "NDWI stands for Normalized Difference Water Index, which is a spectral index commonly used to detect and map the presence of water bodies in remote sensing imagery. It is particularly useful for monitoring changes in water bodies over time, such as during floods or droughts."
      ],
      "metadata": {
        "id": "3ojk4zR6laSL"
      }
    },
    {
      "cell_type": "markdown",
      "source": [
        "TIME PERIOD:\n",
        "\n",
        "\n",
        "```\n",
        "Before Flood - 2028/06/10\n",
        "During Flood - 2018/07/28\n",
        "After Flood - 2018/10/20\n",
        "```\n",
        "\n"
      ],
      "metadata": {
        "id": "Ua55tOgYxe_F"
      }
    },
    {
      "cell_type": "code",
      "source": [
        "#pre-required installations\n",
        "!pip install rasterio\n",
        "!pip install earthpy"
      ],
      "metadata": {
        "id": "ZCsjsDzJdtwG"
      },
      "execution_count": null,
      "outputs": []
    },
    {
      "cell_type": "code",
      "source": [
        "#importing necessary libraries\n",
        "import os                                     \n",
        "import google.colab                        \n",
        "import time                                   \n",
        "import sys\n",
        "import rasterio\n",
        "from rasterio.plot import show\n",
        "import numpy as np\n",
        "from rasterio.warp import reproject, Resampling\n",
        "import osgeo.gdal as gdal\n",
        "import earthpy as et\n",
        "import earthpy.spatial as es\n",
        "import earthpy.plot as ep\n",
        "from glob import glob\n",
        "import matplotlib.pyplot as plt\n",
        "import matplotlib as mpl\n",
        "from matplotlib.colors import ListedColormap\n",
        "from matplotlib.colors import colorConverter\n",
        "gdal.UseExceptions()\n",
        "# from gdalconst import GA_ReadOnly\n",
        "if not os.path.isdir('/content/drive'):\n",
        "    google.colab.drive.mount('/content/drive')"
      ],
      "metadata": {
        "id": "RaXL1V3CZfxS"
      },
      "execution_count": null,
      "outputs": []
    },
    {
      "cell_type": "markdown",
      "source": [
        "# **NDWI Calculation**"
      ],
      "metadata": {
        "id": "gtWPVF8yxGKf"
      }
    },
    {
      "cell_type": "markdown",
      "source": [
        "##BEFORE FLOOD"
      ],
      "metadata": {
        "id": "Ts9NIcIEAv_A"
      }
    },
    {
      "cell_type": "code",
      "source": [
        "# Read the Sentinel-1 data\n",
        "bef_file_path = '/content/drive/My Drive/satellite_data/keralabefore/processed'"
      ],
      "metadata": {
        "id": "ajjAgsNefVKO"
      },
      "execution_count": null,
      "outputs": []
    },
    {
      "cell_type": "code",
      "source": [
        "#Reads all tiff images in the given file path and returns a stacked array of the image data.\n",
        "\n",
        "def read_tiff_images(file1,file2):    \n",
        "    # Get a list of all tiff files in the file path\n",
        "    tiff_files = [file1,file2]\n",
        "    tiff_files.sort()\n",
        "\n",
        "    # Read each tiff file and append the data to a list\n",
        "    data_list = []\n",
        "    for tiff_file in tiff_files:\n",
        "        with rasterio.open(tiff_file, 'r') as f:\n",
        "            data_list.append(f.read(1))\n",
        "\n",
        "    # Stack the data in the list into a single numpy array\n",
        "    arr = np.stack(data_list)\n",
        "\n",
        "    return arr\n"
      ],
      "metadata": {
        "id": "PZFC7ngy8gLq"
      },
      "execution_count": null,
      "outputs": []
    },
    {
      "cell_type": "code",
      "source": [
        "before_floods = read_tiff_images('/content/drive/My Drive/satellite_data/keralabefore/processed/vv_processed.tif','/content/drive/My Drive/satellite_data/keralabefore/processed/vh_processed.tif')"
      ],
      "metadata": {
        "id": "fRbTO_OKmtma"
      },
      "execution_count": null,
      "outputs": []
    },
    {
      "cell_type": "code",
      "source": [
        "#plot multi-band raster data\n",
        "ep.plot_bands(before_floods, cmap='gist_earth', cols=3, figsize=(10, 10), cbar=False)   \n",
        "\n",
        "plt.show()"
      ],
      "metadata": {
        "id": "b8wqC96VpjP9"
      },
      "execution_count": null,
      "outputs": []
    },
    {
      "cell_type": "code",
      "source": [
        "# ep.plot_rgb(before_floods, rgb=(1, 1, 1), figsize=(10, 10))\n",
        "\n",
        "# plt.show()"
      ],
      "metadata": {
        "id": "aDiaehwPqptt"
      },
      "execution_count": null,
      "outputs": []
    },
    {
      "cell_type": "code",
      "source": [
        "pwd"
      ],
      "metadata": {
        "id": "5ovxUfmgRwaR"
      },
      "execution_count": null,
      "outputs": []
    },
    {
      "cell_type": "markdown",
      "source": [
        "Let's calculate NDWI:\n",
        "\n",
        "NDWI is calculated by taking the difference between the reflectance values in the green and near-infrared bands, and then dividing by the sum of these values:\n",
        "\n",
        "**NDWI = (Green - NIR) / (Green + NIR)**"
      ],
      "metadata": {
        "id": "p6Frczu1v_9y"
      }
    },
    {
      "cell_type": "code",
      "source": [
        "#Calculates the NDWI from Sentinel-1 VV and VH bands and writes the output to a new raster file.\n",
        "\n",
        "def calculate_ndwi(file_path: any):\n",
        "    # Open the Sentinel-1 data using rasterio\n",
        "    with rasterio.open(f'{file_path}/vv_processed.tif') as src:\n",
        "        vv_data = src.read(1)\n",
        "        vv_meta = src.meta.copy()\n",
        "    with rasterio.open(f'{file_path}/vh_processed.tif') as src:\n",
        "        vh_data = src.read(1)\n",
        "        vh_meta = src.meta.copy()\n",
        "\n",
        "    # Write the VV and VH bands to separate raster files\n",
        "    vv_meta.update(driver='GTiff', dtype=rasterio.float32, count=1)\n",
        "    with rasterio.open(f'{file_path}/output/vv_band.tiff', 'w', **vv_meta) as dst:\n",
        "        dst.write(vv_data, 1)\n",
        "\n",
        "    vh_meta.update(driver='GTiff', dtype=rasterio.float32, count=1)\n",
        "    with rasterio.open(f'{file_path}/output/vh_band.tiff', 'w', **vh_meta) as dst:\n",
        "        dst.write(vh_data, 1)\n",
        "\n",
        "    # Define the file paths for the VV and VH bands\n",
        "    vv_file = glob(f'{file_path}/output/vv_band.tiff')[0]\n",
        "    vh_file = glob(f'{file_path}/output/vh_band.tiff')[0]\n",
        "\n",
        "    # Read in the VV and VH bands using rasterio\n",
        "    with rasterio.open(vv_file) as vv_src:\n",
        "        vv_data = vv_src.read(1).astype(np.float32)\n",
        "    with rasterio.open(vh_file) as vh_src:\n",
        "        vh_data = vh_src.read(1).astype(np.float32)\n",
        "\n",
        "    # Calculate the NDWI using the VV and VH bands\n",
        "    ndwi = (vv_data - vh_data) / (vv_data + vh_data)\n",
        "\n",
        "    # Write the NDWI output to a new raster file\n",
        "    ndwi_meta = vv_src.meta.copy()\n",
        "    ndwi_meta.update(driver='GTiff', dtype=rasterio.float32, count=1)\n",
        "    with rasterio.open(f'{file_path}/output/ndwi_anlayser_output.tif', 'w', **ndwi_meta) as dst:\n",
        "        dst.write(ndwi, 1)\n",
        "    return ndwi\n"
      ],
      "metadata": {
        "id": "lZ5WOIlP9fRm"
      },
      "execution_count": null,
      "outputs": []
    },
    {
      "cell_type": "code",
      "source": [
        "#NDWI calculation\n",
        "bef_ndwi = calculate_ndwi(bef_file_path)"
      ],
      "metadata": {
        "id": "MYYKxe42--Iu"
      },
      "execution_count": null,
      "outputs": []
    },
    {
      "cell_type": "code",
      "source": [
        "#visualisation\n",
        "ep.plot_bands(bef_ndwi, cmap='gist_earth', vmin=0, vmax=1)\n",
        "\n",
        "plt.show()"
      ],
      "metadata": {
        "id": "Mp9tU8fG6vhi"
      },
      "execution_count": null,
      "outputs": []
    },
    {
      "cell_type": "markdown",
      "source": [
        "##DURING FLOOD"
      ],
      "metadata": {
        "id": "KMk6DH3VBqhc"
      }
    },
    {
      "cell_type": "code",
      "source": [
        "# read the Sentinel-1 data\n",
        "dur_file_path = '/content/drive/My Drive/satellite_data/keraladuring/processed'"
      ],
      "metadata": {
        "id": "ZU5Cqg9hB3As"
      },
      "execution_count": null,
      "outputs": []
    },
    {
      "cell_type": "code",
      "source": [
        "# returns a stacked array of the image data\n",
        "during_floods = read_tiff_images('/content/drive/My Drive/satellite_data/keraladuring/processed/vv_processed.tif','/content/drive/My Drive/satellite_data/keraladuring/processed/vh_processed.tif')"
      ],
      "metadata": {
        "id": "30P_pgC1CbQ2"
      },
      "execution_count": null,
      "outputs": []
    },
    {
      "cell_type": "code",
      "source": [
        "# visualise RGB image of the raster file containing data from during a flood event\n",
        "ep.plot_bands(during_floods, cmap='gist_earth', cols=3, figsize=(10, 10), cbar=False) \n",
        "plt.show()"
      ],
      "metadata": {
        "id": "bzcdnGaYDFJu"
      },
      "execution_count": null,
      "outputs": []
    },
    {
      "cell_type": "code",
      "source": [
        "#NDWI Calculation\n",
        "dur_ndwi = calculate_ndwi(dur_file_path)"
      ],
      "metadata": {
        "id": "cqWDYVPgC07t"
      },
      "execution_count": null,
      "outputs": []
    },
    {
      "cell_type": "code",
      "source": [
        "# visualise RGB image of the raster file containing data of ndwi from during a flood event\n",
        "ep.plot_bands(dur_ndwi, cmap='coolwarm_r', vmin=0, vmax=1)\n",
        "\n",
        "plt.show()"
      ],
      "metadata": {
        "id": "iJX0wyLCGPHl"
      },
      "execution_count": null,
      "outputs": []
    },
    {
      "cell_type": "markdown",
      "source": [
        "## AFTER FLOOD"
      ],
      "metadata": {
        "id": "or0QjVViMIaC"
      }
    },
    {
      "cell_type": "code",
      "source": [
        "# Read the Sentinel-1 data\n",
        "aft_file_path = '/content/drive/My Drive/satellite_data/keralaafter/processed'"
      ],
      "metadata": {
        "id": "ugUoqV0IMkeY"
      },
      "execution_count": null,
      "outputs": []
    },
    {
      "cell_type": "code",
      "source": [
        "# returns a stacked array of the image data\n",
        "after_floods = read_tiff_images('/content/drive/My Drive/satellite_data/keralaafter/processed/vv_processed.tif','/content/drive/My Drive/satellite_data/keralaafter/processed/vh_processed.tif')"
      ],
      "metadata": {
        "id": "X0vWwg7jHJVh"
      },
      "execution_count": null,
      "outputs": []
    },
    {
      "cell_type": "code",
      "source": [
        "# visualise RGB image of the raster file containing data from after a flood event\n",
        "ep.plot_bands(after_floods, cmap='gist_earth', cols=3, figsize=(10, 10), cbar=False) \n",
        "plt.show()"
      ],
      "metadata": {
        "id": "nFMAD-clIM1f"
      },
      "execution_count": null,
      "outputs": []
    },
    {
      "cell_type": "code",
      "source": [
        "#NDWI calculation\n",
        "aft_ndwi = calculate_ndwi(aft_file_path)"
      ],
      "metadata": {
        "id": "Y4pv9HXsMyKF"
      },
      "execution_count": null,
      "outputs": []
    },
    {
      "cell_type": "code",
      "source": [
        "# visualise RGB image of the raster file containing data of ndwi from after the flood event\n",
        "ep.plot_bands(aft_ndwi, cmap='coolwarm_r', vmin=0, vmax=1)\n",
        "\n",
        "plt.show()"
      ],
      "metadata": {
        "id": "tbzyj3f5NLBI"
      },
      "execution_count": null,
      "outputs": []
    },
    {
      "cell_type": "markdown",
      "source": [
        "Our analysis showed that the NDWI values during the peak of the flood were significantly higher than those before or after the event, indicating the extensive presence of water in the affected areas. Additionally, the results of our flood mapping exercise showed that the floodwaters had inundated large areas of agricultural land, residential areas, and infrastructure, causing severe damage and disruption."
      ],
      "metadata": {
        "id": "KtsqxvnMwaAk"
      }
    },
    {
      "cell_type": "markdown",
      "source": [
        "# **Flood Mapping**\n",
        "In this process, maps that show the extent and severity of flood events are created as follows. These maps can be used to assess the potential impacts of flooding on human populations, infrastructure, and natural resources, and can help decision-makers and emergency responders plan and respond to flood events."
      ],
      "metadata": {
        "id": "ZCM6p1PeuENx"
      }
    },
    {
      "cell_type": "code",
      "source": [
        "# Apply a threshold of 0.6 to mask the data into water and non-water pixels\n",
        "def create_water_mask(ndwi_array, threshold=0.6):\n",
        "    # Apply a threshold to mask the data into water and non-water pixels\n",
        "    water_mask = ndwi_array > threshold\n",
        "    \n",
        "    # Convert boolean values to integers (1 for water and 0 for non-water pixels)\n",
        "    mask = water_mask.astype(int)\n",
        "    \n",
        "    return mask"
      ],
      "metadata": {
        "id": "6qzriCJAVKHp"
      },
      "execution_count": null,
      "outputs": []
    },
    {
      "cell_type": "markdown",
      "source": [
        "Here, the threshold of 0.6 used in the create_water_mask() function is a commonly used value for detecting water bodies in remote sensing data using the NDWI index.\n",
        "\n",
        "By setting a threshold of 0.6, the function is essentially saying that any pixel with an NDWI value greater than 0.6 is likely to be water, while any pixel with a lower NDWI value is likely to be non-water. This threshold value can be adjusted depending on the specific application and the characteristics of the data being analyzed."
      ],
      "metadata": {
        "id": "YM_z3fzRttNj"
      }
    },
    {
      "cell_type": "code",
      "source": [
        "mask_bef = create_water_mask(bef_ndwi)"
      ],
      "metadata": {
        "id": "REed8aDN9U3m"
      },
      "execution_count": null,
      "outputs": []
    },
    {
      "cell_type": "code",
      "source": [
        "# Visualize the mask using a grayscale colormap\n",
        "fig, ax = plt.subplots(figsize=(12, 12))\n",
        "ep.plot_bands(mask_bef, cmap='Greys_r', ax=ax)\n",
        "ax.set(title=\"Water Mask (Before Flood)\")\n",
        "plt.show()"
      ],
      "metadata": {
        "id": "dWsF67fdOim8"
      },
      "execution_count": null,
      "outputs": []
    },
    {
      "cell_type": "code",
      "source": [
        "mask_dur = create_water_mask(aft_ndwi)"
      ],
      "metadata": {
        "id": "Jw_4HPL59ncp"
      },
      "execution_count": null,
      "outputs": []
    },
    {
      "cell_type": "code",
      "source": [
        "# Visualize the mask using a grayscale colormap\n",
        "fig, ax = plt.subplots(figsize=(12, 12))\n",
        "ep.plot_bands(mask_dur, cmap='Greys_r', ax=ax)\n",
        "ax.set(title=\"Water Mask (during Flood)\")\n",
        "plt.show()"
      ],
      "metadata": {
        "id": "UJq11cUwRMBT"
      },
      "execution_count": null,
      "outputs": []
    },
    {
      "cell_type": "code",
      "source": [
        "# Calculate the difference between the water masks for during and before the flood\n",
        "\n",
        "def calculate_water_mask_diff(mask_dur, mask_bef):\n",
        "    # Calculate the difference between the water masks for during and before the flood\n",
        "    mask_diff = mask_dur - mask_bef\n",
        "\n",
        "    # Set any negative values in the difference array to 0\n",
        "    mask_diff = np.where(mask_diff < 0, 0, mask_diff)\n",
        "    \n",
        "    return mask_diff"
      ],
      "metadata": {
        "id": "wbqNPDA5TSbE"
      },
      "execution_count": null,
      "outputs": []
    },
    {
      "cell_type": "code",
      "source": [
        "mask_diff = calculate_water_mask_diff(mask_dur, mask_bef)"
      ],
      "metadata": {
        "id": "BNhv5jdH97cK"
      },
      "execution_count": null,
      "outputs": []
    },
    {
      "cell_type": "code",
      "source": [
        "# Visualize the difference mask using a grayscale colormap\n",
        "import matplotlib.pyplot as plt\n",
        "import earthpy.plot as ep\n",
        "\n",
        "fig, ax = plt.subplots(figsize=(12, 12))\n",
        "ep.plot_bands(mask_diff, cmap='Greys_r', ax=ax)\n",
        "ax.set(title=\"Difference in Water Mask (During vs Before Flood)\")\n",
        "plt.show()"
      ],
      "metadata": {
        "id": "4bUeVvDf95qA"
      },
      "execution_count": null,
      "outputs": []
    },
    {
      "cell_type": "markdown",
      "source": [
        "The image generated shows the areas where water was present during flood but was not present before flood."
      ],
      "metadata": {
        "id": "bLG4O8cdseBK"
      }
    },
    {
      "cell_type": "code",
      "source": [
        "def plot_flood(ndwi_dur, mask_diff):\n",
        "    # generate the colors for your colormap\n",
        "    color1 = colorConverter.to_rgba('white')\n",
        "    color2 = colorConverter.to_rgba('black')\n",
        "\n",
        "    # make the colormaps\n",
        "    cmap1 = mpl.colors.LinearSegmentedColormap.from_list('my_cmap',['green','blue'],256)\n",
        "    cmap2 = mpl.colors.LinearSegmentedColormap.from_list('my_cmap2',[color1,color2],256)\n",
        "\n",
        "    cmap2._init() # create the _lut array, with rgba values\n",
        "\n",
        "    # create your alpha array and fill the colormap with them.\n",
        "    # here it is progressive, but you can create whathever you want\n",
        "    alphas = np.linspace(0, 0.8, cmap2.N+3)\n",
        "    cmap2._lut[:,-1] = alphas\n",
        "\n",
        "    fig = plt.figure(figsize=(12, 12)) \n",
        "    plt.imshow(ndwi_dur, interpolation='nearest', cmap=cmap1)\n",
        "    plt.imshow(mask_diff, interpolation='nearest', cmap=cmap2, label='flood')\n",
        "    # plt.colorbar()\n",
        "    plt.axis('off')\n",
        "\n",
        "    # patches = mpatches.Patch(color=cmap2, label=\"Flood\")\n",
        "    # plt.legend(handles=patches, bbox_to_anchor=(1.05, 1), loc=2, borderaxespad=0.)\n",
        "    plt.show()"
      ],
      "metadata": {
        "id": "0c9helYqVDSS"
      },
      "execution_count": null,
      "outputs": []
    },
    {
      "cell_type": "code",
      "source": [
        "fig = plt.figure(figsize=(10, 10))\n",
        "plt.imshow(bef_ndwi, vmin=0, vmax=1, cmap='gray_r', interpolation='none')\n",
        "\n",
        "plt.axis('off')\n",
        "plt.show()"
      ],
      "metadata": {
        "id": "4hjuxcEx88SJ"
      },
      "execution_count": null,
      "outputs": []
    },
    {
      "cell_type": "markdown",
      "source": [
        "The image generated gives us the idea of the flood extent on the difference in NDWI values between pre and post floods."
      ],
      "metadata": {
        "id": "KHmNbxU6r6ja"
      }
    },
    {
      "cell_type": "code",
      "source": [
        "#dynamics of water environment\n",
        "fig = plt.figure(figsize=(12, 12))\n",
        "\n",
        "plt.imshow(mask_diff, vmin=0, vmax=1, cmap='Reds', interpolation='none')\n",
        "plt.imshow(bef_ndwi, vmin=0, vmax=1, cmap='gist_earth_r', interpolation='none', alpha=0.5)\n",
        "#opacity=0.5\n",
        "\n",
        "plt.axis('off')\n",
        "plt.show()"
      ],
      "metadata": {
        "id": "TZiDzSmO-Qht"
      },
      "execution_count": null,
      "outputs": []
    },
    {
      "cell_type": "markdown",
      "source": [
        "The above resulting plot shows the areas where water has accumulated during a flood event (highlighted in red), as well as the water extent before the flood (in earth tones). By visualizing the differences in water extent before and after a flood event, decision-makers and researchers can gain insights into the severity and impacts of the flood, and develop strategies for mitigating its effects in the future."
      ],
      "metadata": {
        "id": "8tnsB0TLuztm"
      }
    },
    {
      "cell_type": "markdown",
      "source": [
        "Further, by combining data from multiple satellite sensors and sources, it is possible to generate detailed and accurate maps of flood events that can be used to support decision-making and disaster response efforts."
      ],
      "metadata": {
        "id": "9tU13McKvRmX"
      }
    },
    {
      "cell_type": "code",
      "source": [
        "fig = plt.figure(figsize=(12, 12))\n",
        "\n",
        "rgb = np.moveaxis(np.stack([dl[3], dl[2], dl[1]]), 0, -1)\n",
        "Image = rgb/np.amax(rgb)\n",
        "Image = np.clip(Image, 0, 1)\n",
        "\n",
        "\n",
        "plt.imshow(Image, interpolation='none')\n",
        "plt.imshow(mask_diff, vmin=0, vmax=1, \n",
        "           cmap=ListedColormap(['#ffffff00', '#00FF33']), \n",
        "           interpolation='none' , alpha=0.5)\n",
        "\n",
        "plt.axis('off')\n",
        "# plt.savefig('flood_result.png', dpi=400)\n",
        "\n",
        "plt.show()"
      ],
      "metadata": {
        "id": "g6VCec7--cAi"
      },
      "execution_count": null,
      "outputs": []
    },
    {
      "cell_type": "markdown",
      "source": [
        "The above plot combines a Sentinel-2 RGB image with a flood mask derived from Sentinel-1 data. The resulting plot shows the Sentinel-2 RGB image as a base layer, with the flood mask overlaid on top in green. "
      ],
      "metadata": {
        "id": "vlXLuAbfvW3Z"
      }
    },
    {
      "cell_type": "markdown",
      "source": [
        "Using a combination of NDWI analysis and flood mapping techniques, we were able to generate detailed and accurate maps of the 2018 Kerala floods. These maps can be used to support disaster response efforts and help inform decision-making for future flood events in the region. The results of our analysis demonstrate the potential of remote sensing data for monitoring and assessing natural disasters, and highlight the importance of continued investment in satellite-based monitoring systems."
      ],
      "metadata": {
        "id": "OumFu6wew4OK"
      }
    }
  ]
}